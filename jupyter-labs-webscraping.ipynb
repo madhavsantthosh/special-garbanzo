{
 "cells": [
  {
   "cell_type": "markdown",
   "metadata": {},
   "source": [
    "<p style=\"text-align:center\">\n",
    "    <a href=\"https://skills.network\" target=\"_blank\">\n",
    "    <img src=\"https://cf-courses-data.s3.us.cloud-object-storage.appdomain.cloud/assets/logos/SN_web_lightmode.png\" width=\"200\" alt=\"Skills Network Logo\">\n",
    "    </a>\n",
    "</p>\n"
   ]
  },
  {
   "cell_type": "markdown",
   "metadata": {},
   "source": [
    "# **Space X  Falcon 9 First Stage Landing Prediction**\n"
   ]
  },
  {
   "cell_type": "markdown",
   "metadata": {},
   "source": [
    "## Web scraping Falcon 9 and Falcon Heavy Launches Records from Wikipedia\n"
   ]
  },
  {
   "cell_type": "markdown",
   "metadata": {},
   "source": [
    "Estimated time needed: **40** minutes\n"
   ]
  },
  {
   "cell_type": "markdown",
   "metadata": {},
   "source": [
    "In this lab, you will be performing web scraping to collect Falcon 9 historical launch records from a Wikipedia page titled `List of Falcon 9 and Falcon Heavy launches`\n",
    "\n",
    "https://en.wikipedia.org/wiki/List_of_Falcon_9_and_Falcon_Heavy_launches\n"
   ]
  },
  {
   "cell_type": "markdown",
   "metadata": {},
   "source": [
    "![](https://cf-courses-data.s3.us.cloud-object-storage.appdomain.cloud/IBM-DS0321EN-SkillsNetwork/labs/module_1_L2/images/Falcon9_rocket_family.svg)\n"
   ]
  },
  {
   "cell_type": "markdown",
   "metadata": {},
   "source": [
    "Falcon 9 first stage will land successfully\n"
   ]
  },
  {
   "cell_type": "markdown",
   "metadata": {},
   "source": [
    "![](https://cf-courses-data.s3.us.cloud-object-storage.appdomain.cloud/IBMDeveloperSkillsNetwork-DS0701EN-SkillsNetwork/api/Images/landing_1.gif)\n"
   ]
  },
  {
   "cell_type": "markdown",
   "metadata": {},
   "source": [
    "Several examples of an unsuccessful landing are shown here:\n"
   ]
  },
  {
   "cell_type": "markdown",
   "metadata": {},
   "source": [
    "![](https://cf-courses-data.s3.us.cloud-object-storage.appdomain.cloud/IBMDeveloperSkillsNetwork-DS0701EN-SkillsNetwork/api/Images/crash.gif)\n"
   ]
  },
  {
   "cell_type": "markdown",
   "metadata": {},
   "source": [
    "More specifically, the launch records are stored in a HTML table shown below:\n"
   ]
  },
  {
   "cell_type": "markdown",
   "metadata": {},
   "source": [
    "![](https://cf-courses-data.s3.us.cloud-object-storage.appdomain.cloud/IBM-DS0321EN-SkillsNetwork/labs/module_1_L2/images/falcon9-launches-wiki.png)\n"
   ]
  },
  {
   "cell_type": "markdown",
   "metadata": {},
   "source": [
    "  ## Objectives\n",
    "Web scrap Falcon 9 launch records with `BeautifulSoup`: \n",
    "- Extract a Falcon 9 launch records HTML table from Wikipedia\n",
    "- Parse the table and convert it into a Pandas data frame\n"
   ]
  },
  {
   "cell_type": "markdown",
   "metadata": {},
   "source": [
    "First let's import required packages for this lab\n"
   ]
  },
  {
   "cell_type": "code",
   "execution_count": 1,
   "metadata": {
    "tags": []
   },
   "outputs": [
    {
     "name": "stdout",
     "output_type": "stream",
     "text": [
      "Requirement already satisfied: beautifulsoup4 in /home/jupyterlab/conda/envs/python/lib/python3.7/site-packages (4.11.1)\n",
      "Requirement already satisfied: soupsieve>1.2 in /home/jupyterlab/conda/envs/python/lib/python3.7/site-packages (from beautifulsoup4) (2.3.2.post1)\n",
      "Requirement already satisfied: requests in /home/jupyterlab/conda/envs/python/lib/python3.7/site-packages (2.29.0)\n",
      "Requirement already satisfied: charset-normalizer<4,>=2 in /home/jupyterlab/conda/envs/python/lib/python3.7/site-packages (from requests) (3.1.0)\n",
      "Requirement already satisfied: idna<4,>=2.5 in /home/jupyterlab/conda/envs/python/lib/python3.7/site-packages (from requests) (3.4)\n",
      "Requirement already satisfied: urllib3<1.27,>=1.21.1 in /home/jupyterlab/conda/envs/python/lib/python3.7/site-packages (from requests) (1.26.15)\n",
      "Requirement already satisfied: certifi>=2017.4.17 in /home/jupyterlab/conda/envs/python/lib/python3.7/site-packages (from requests) (2023.5.7)\n"
     ]
    }
   ],
   "source": [
    "!pip3 install beautifulsoup4\n",
    "!pip3 install requests"
   ]
  },
  {
   "cell_type": "code",
   "execution_count": 2,
   "metadata": {
    "tags": []
   },
   "outputs": [],
   "source": [
    "import sys\n",
    "\n",
    "import requests\n",
    "from bs4 import BeautifulSoup\n",
    "import re\n",
    "import unicodedata\n",
    "import pandas as pd"
   ]
  },
  {
   "cell_type": "markdown",
   "metadata": {},
   "source": [
    "and we will provide some helper functions for you to process web scraped HTML table\n"
   ]
  },
  {
   "cell_type": "code",
   "execution_count": 3,
   "metadata": {
    "tags": []
   },
   "outputs": [],
   "source": [
    "def date_time(table_cells):\n",
    "    \"\"\"\n",
    "    This function returns the data and time from the HTML  table cell\n",
    "    Input: the  element of a table data cell extracts extra row\n",
    "    \"\"\"\n",
    "    return [data_time.strip() for data_time in list(table_cells.strings)][0:2]\n",
    "\n",
    "def booster_version(table_cells):\n",
    "    \"\"\"\n",
    "    This function returns the booster version from the HTML  table cell \n",
    "    Input: the  element of a table data cell extracts extra row\n",
    "    \"\"\"\n",
    "    out=''.join([booster_version for i,booster_version in enumerate( table_cells.strings) if i%2==0][0:-1])\n",
    "    return out\n",
    "\n",
    "def landing_status(table_cells):\n",
    "    \"\"\"\n",
    "    This function returns the landing status from the HTML table cell \n",
    "    Input: the  element of a table data cell extracts extra row\n",
    "    \"\"\"\n",
    "    out=[i for i in table_cells.strings][0]\n",
    "    return out\n",
    "\n",
    "\n",
    "def get_mass(table_cells):\n",
    "    mass=unicodedata.normalize(\"NFKD\", table_cells.text).strip()\n",
    "    if mass:\n",
    "        mass.find(\"kg\")\n",
    "        new_mass=mass[0:mass.find(\"kg\")+2]\n",
    "    else:\n",
    "        new_mass=0\n",
    "    return new_mass\n",
    "\n",
    "\n",
    "def extract_column_from_header(row):\n",
    "    \"\"\"\n",
    "    This function returns the landing status from the HTML table cell \n",
    "    Input: the  element of a table data cell extracts extra row\n",
    "    \"\"\"\n",
    "    if (row.br):\n",
    "        row.br.extract()\n",
    "    if row.a:\n",
    "        row.a.extract()\n",
    "    if row.sup:\n",
    "        row.sup.extract()\n",
    "        \n",
    "    colunm_name = ' '.join(row.contents)\n",
    "    \n",
    "    # Filter the digit and empty names\n",
    "    if not(colunm_name.strip().isdigit()):\n",
    "        colunm_name = colunm_name.strip()\n",
    "        return colunm_name    \n"
   ]
  },
  {
   "cell_type": "markdown",
   "metadata": {},
   "source": [
    "To keep the lab tasks consistent, you will be asked to scrape the data from a snapshot of the  `List of Falcon 9 and Falcon Heavy launches` Wikipage updated on\n",
    "`9th June 2021`\n"
   ]
  },
  {
   "cell_type": "code",
   "execution_count": 4,
   "metadata": {
    "tags": []
   },
   "outputs": [],
   "source": [
    "static_url = \"https://en.wikipedia.org/w/index.php?title=List_of_Falcon_9_and_Falcon_Heavy_launches&oldid=1027686922\""
   ]
  },
  {
   "cell_type": "markdown",
   "metadata": {},
   "source": [
    "Next, request the HTML page from the above URL and get a `response` object\n"
   ]
  },
  {
   "cell_type": "markdown",
   "metadata": {},
   "source": [
    "### TASK 1: Request the Falcon9 Launch Wiki page from its URL\n"
   ]
  },
  {
   "cell_type": "markdown",
   "metadata": {},
   "source": [
    "First, let's perform an HTTP GET method to request the Falcon9 Launch HTML page, as an HTTP response.\n"
   ]
  },
  {
   "cell_type": "code",
   "execution_count": 5,
   "metadata": {
    "tags": []
   },
   "outputs": [
    {
     "name": "stdout",
     "output_type": "stream",
     "text": [
      "Response Status Code: 200\n"
     ]
    }
   ],
   "source": [
    "# use requests.get() method with the provided static_url\n",
    "# assign the response to a object\n",
    "\n",
    "import requests\n",
    "\n",
    "# The provided static URL\n",
    "\n",
    "# Perform HTTP GET request\n",
    "response = requests.get(static_url)\n",
    "\n",
    "# Check if the request was successful\n",
    "print(\"Response Status Code:\", response.status_code)\n",
    "\n",
    "# Assign HTML content to a variable\n",
    "html_content = response.text"
   ]
  },
  {
   "cell_type": "markdown",
   "metadata": {},
   "source": [
    "Create a `BeautifulSoup` object from the HTML `response`\n"
   ]
  },
  {
   "cell_type": "code",
   "execution_count": 6,
   "metadata": {
    "tags": []
   },
   "outputs": [
    {
     "name": "stdout",
     "output_type": "stream",
     "text": [
      "Page title: List of Falcon 9 and Falcon Heavy launches - Wikipedia\n"
     ]
    }
   ],
   "source": [
    "# Use BeautifulSoup() to create a BeautifulSoup object from a response text content\n",
    "import requests\n",
    "from bs4 import BeautifulSoup\n",
    "\n",
    "# Get HTML page\n",
    "response = requests.get(static_url)\n",
    "\n",
    "# Check if request was successful\n",
    "if response.status_code == 200:\n",
    "    soup = BeautifulSoup(response.text, 'html.parser')\n",
    "    print(\"Page title:\", soup.title.string)\n",
    "else:\n",
    "    print(\"Failed to load page. Status code:\", response.status_code)"
   ]
  },
  {
   "cell_type": "markdown",
   "metadata": {},
   "source": [
    "Print the page title to verify if the `BeautifulSoup` object was created properly \n"
   ]
  },
  {
   "cell_type": "code",
   "execution_count": 7,
   "metadata": {
    "tags": []
   },
   "outputs": [
    {
     "name": "stdout",
     "output_type": "stream",
     "text": [
      "Page Title: List of Falcon 9 and Falcon Heavy launches - Wikipedia\n"
     ]
    }
   ],
   "source": [
    "# Use soup.title attribute\n",
    "# URL of the static Falcon 9 HTML page\n",
    "\n",
    "\n",
    "# Perform HTTP GET request\n",
    "response = requests.get(static_url)\n",
    "\n",
    "# Create BeautifulSoup object\n",
    "soup = BeautifulSoup(response.text, 'html.parser')\n",
    "\n",
    "#  Print the page title\n",
    "print(\"Page Title:\", soup.title.string)"
   ]
  },
  {
   "cell_type": "markdown",
   "metadata": {},
   "source": [
    "### TASK 2: Extract all column/variable names from the HTML table header\n"
   ]
  },
  {
   "cell_type": "markdown",
   "metadata": {},
   "source": [
    "Next, we want to collect all relevant column names from the HTML table header\n"
   ]
  },
  {
   "cell_type": "markdown",
   "metadata": {},
   "source": [
    "Let's try to find all tables on the wiki page first. If you need to refresh your memory about `BeautifulSoup`, please check the external reference link towards the end of this lab\n"
   ]
  },
  {
   "cell_type": "code",
   "execution_count": 8,
   "metadata": {
    "tags": []
   },
   "outputs": [
    {
     "name": "stdout",
     "output_type": "stream",
     "text": [
      " Number of tables found: 25\n",
      " Column Names Extracted:\n",
      "[]\n"
     ]
    }
   ],
   "source": [
    "# Use the find_all function in the BeautifulSoup object, with element type `table`\n",
    "# Assign the result to a list called `html_tables`\n",
    "\n",
    "soup = BeautifulSoup(response.text, 'html.parser')\n",
    "\n",
    "# Step 3: Find all tables in the page\n",
    "tables = soup.find_all('table')\n",
    "print(\" Number of tables found:\", len(tables))\n",
    "\n",
    "# Step 4: Select the first table (or adjust index if needed)\n",
    "table = tables[0]  # Assume the Falcon 9 table is the first one\n",
    "\n",
    "# Step 5: Helper function to clean header names\n",
    "def extract_column_from_header(row):\n",
    "    \"\"\"\n",
    "    Clean and extract a column name from a header cell (<th>).\n",
    "    \"\"\"\n",
    "    if (row.br):\n",
    "        row.br.extract()  # Remove <br> tags\n",
    "    if row.a:\n",
    "        row.a.extract()   # Remove <a> links\n",
    "    if row.sup:\n",
    "        row.sup.extract() # Remove <sup> tags\n",
    "    \n",
    "    # Get the text content of the header\n",
    "    colunm_name = row.get_text(\" \", strip=True)\n",
    "\n",
    "    # Filter out headers that are purely digits or empty\n",
    "    if colunm_name and not colunm_name.strip().isdigit():\n",
    "        return colunm_name\n",
    "    return None\n",
    "\n",
    "# Step 6: Extract all header cells from the selected table\n",
    "headers = table.find_all('th')\n",
    "\n",
    "# Step 7: Clean and store column names\n",
    "html_tables = [extract_column_from_header(th) for th in headers]\n",
    "html_tables = [name for name in html_tables if name is not None]  # Remove None values\n",
    "\n",
    "#  Step 8: Print the list of cleaned column names\n",
    "print(\" Column Names Extracted:\")\n",
    "print(html_tables)"
   ]
  },
  {
   "cell_type": "markdown",
   "metadata": {},
   "source": [
    "Starting from the third table is our target table contains the actual launch records.\n"
   ]
  },
  {
   "cell_type": "code",
   "execution_count": 11,
   "metadata": {
    "tags": []
   },
   "outputs": [
    {
     "name": "stdout",
     "output_type": "stream",
     "text": [
      "Number of tables found: 25\n",
      "\n",
      "Table 0 headers preview: []\n",
      "\n",
      "Table 1 headers preview: []\n",
      "\n",
      "Table 2 headers preview: ['Flight No.', 'Date andtime (UTC)', 'Version,Booster[b]', 'Launch site', 'Payload[c]']\n",
      "\n",
      "✅ Falcon 9 table likely found at index 2\n",
      "\n",
      "✅ Cleaned Column Names Extracted:\n",
      "['Flight No.', 'Date and time ( )', 'Launch site', 'Payload', 'Payload mass', 'Orbit', 'Customer', 'Launch outcome']\n",
      "\n",
      "Row 0 : Flight No.\n",
      "\n",
      "Date andtime ()\n",
      "\n",
      " \n",
      "\n",
      "Launch site\n",
      "\n",
      "Payload\n",
      "\n",
      "Payload mass\n",
      "\n",
      "Orbit\n",
      "\n",
      "Customer\n",
      "\n",
      "Launchoutcome\n",
      "\n",
      "Row 1 : 1\n",
      "\n",
      "4 June 2010,18:45\n",
      "\n",
      "F9 v1.0[7]B0003.1[8]\n",
      "\n",
      "CCAFS,SLC-40\n",
      "\n",
      "Dragon Spacecraft Qualification Unit\n",
      "\n",
      "\n",
      "\n",
      "LEO\n",
      "\n",
      "SpaceX\n",
      "\n",
      "Success\n",
      "\n",
      "Failure[9][10](parachute)\n",
      "\n",
      "Row 2 : First flight of Falcon 9 v1.0.[11] Used a boilerplate version of Dragon capsule which was not designed to separate from the second stage.(more details below) Attempted to recover the first stage by pa\n"
     ]
    }
   ],
   "source": [
    "tables = soup.find_all('table')\n",
    "print(\"Number of tables found:\", len(tables))\n",
    "\n",
    "# Step 2: Detect the Falcon 9 table automatically\n",
    "falcon9_table = None\n",
    "for idx, tbl in enumerate(tables):\n",
    "    headers = tbl.find_all('th')\n",
    "    header_texts = [th.get_text(strip=True) for th in headers]\n",
    "    print(f\"\\nTable {idx} headers preview:\", header_texts[:5])  # show first 5 header texts\n",
    "    # Check if this table has known Falcon 9 header keywords\n",
    "    if any(\"Date\" in h or \"Outcome\" in h for h in header_texts):\n",
    "        falcon9_table = tbl\n",
    "        print(f\"\\n✅ Falcon 9 table likely found at index {idx}\")\n",
    "        break\n",
    "\n",
    "if falcon9_table is None:\n",
    "    raise ValueError(\"Falcon 9 table not found on the page!\")\n",
    "\n",
    "# Step 3: Clean headers\n",
    "def extract_column_from_header(row):\n",
    "    \"\"\"\n",
    "    Clean and extract a column name from a header cell (<th>).\n",
    "    \"\"\"\n",
    "    if row.br:\n",
    "        row.br.extract()  # Remove <br> tags\n",
    "    if row.a:\n",
    "        row.a.extract()   # Remove <a> links\n",
    "    if row.sup:\n",
    "        row.sup.extract() # Remove <sup> tags\n",
    "    colunm_name = row.get_text(\" \", strip=True)\n",
    "    # Filter out empty headers or purely numeric ones\n",
    "    if colunm_name and not colunm_name.strip().isdigit():\n",
    "        return colunm_name\n",
    "    return None\n",
    "\n",
    "# Step 4: Extract headers\n",
    "headers = falcon9_table.find_all('th')\n",
    "html_tables = [extract_column_from_header(th) for th in headers]\n",
    "html_tables = [name for name in html_tables if name is not None]  # Remove None values\n",
    "\n",
    "print(\"\\n✅ Cleaned Column Names Extracted:\")\n",
    "print(html_tables)\n",
    "\n",
    "# Optional: If you want to view the first few rows of this table\n",
    "rows = falcon9_table.find_all('tr')\n",
    "for i, row in enumerate(rows[:3]):  # show first 3 rows\n",
    "    print(\"\\nRow\", i, \":\", row.text.strip()[:200])  # limit text to 200 chars"
   ]
  },
  {
   "cell_type": "markdown",
   "metadata": {},
   "source": [
    "You should able to see the columns names embedded in the table header elements `<th>` as follows:\n"
   ]
  },
  {
   "cell_type": "markdown",
   "metadata": {},
   "source": [
    "```\n",
    "<tr>\n",
    "<th scope=\"col\">Flight No.\n",
    "</th>\n",
    "<th scope=\"col\">Date and<br/>time (<a href=\"/wiki/Coordinated_Universal_Time\" title=\"Coordinated Universal Time\">UTC</a>)\n",
    "</th>\n",
    "<th scope=\"col\"><a href=\"/wiki/List_of_Falcon_9_first-stage_boosters\" title=\"List of Falcon 9 first-stage boosters\">Version,<br/>Booster</a> <sup class=\"reference\" id=\"cite_ref-booster_11-0\"><a href=\"#cite_note-booster-11\">[b]</a></sup>\n",
    "</th>\n",
    "<th scope=\"col\">Launch site\n",
    "</th>\n",
    "<th scope=\"col\">Payload<sup class=\"reference\" id=\"cite_ref-Dragon_12-0\"><a href=\"#cite_note-Dragon-12\">[c]</a></sup>\n",
    "</th>\n",
    "<th scope=\"col\">Payload mass\n",
    "</th>\n",
    "<th scope=\"col\">Orbit\n",
    "</th>\n",
    "<th scope=\"col\">Customer\n",
    "</th>\n",
    "<th scope=\"col\">Launch<br/>outcome\n",
    "</th>\n",
    "<th scope=\"col\"><a href=\"/wiki/Falcon_9_first-stage_landing_tests\" title=\"Falcon 9 first-stage landing tests\">Booster<br/>landing</a>\n",
    "</th></tr>\n",
    "```\n"
   ]
  },
  {
   "cell_type": "markdown",
   "metadata": {},
   "source": [
    "Next, we just need to iterate through the `<th>` elements and apply the provided `extract_column_from_header()` to extract column name one by one\n"
   ]
  },
  {
   "cell_type": "code",
   "execution_count": 15,
   "metadata": {
    "tags": []
   },
   "outputs": [
    {
     "name": "stdout",
     "output_type": "stream",
     "text": [
      "Number of tables found: 25\n",
      "Table 0: headers preview -> []\n",
      "Table 1: headers preview -> []\n",
      "Table 2: headers preview -> ['Flight No.', 'Date andtime ()', '', 'Launch site', 'Payload']\n",
      "\n",
      " Falcon 9 launch table found at index 2\n",
      "\n",
      " Cleaned Column Names:\n",
      "['Flight No.', 'Date and time ( )', 'Launch site', 'Payload', 'Payload mass', 'Orbit', 'Customer', 'Launch outcome']\n"
     ]
    }
   ],
   "source": [
    "# Find all tables on the page\n",
    "tables = soup.find_all('table')\n",
    "print(\"Number of tables found:\", len(tables))\n",
    "\n",
    "# Automatically detect the Falcon 9 launch table\n",
    "first_launch_table = None\n",
    "for idx, tbl in enumerate(tables):\n",
    "    headers = tbl.find_all('th')\n",
    "    header_texts = [th.get_text(strip=True) for th in headers]\n",
    "    print(f\"Table {idx}: headers preview ->\", header_texts[:5])  # preview first 5 headers\n",
    "    # If table has expected Falcon 9 headers\n",
    "    if any(\"Date\" in h or \"Outcome\" in h for h in header_texts):\n",
    "        first_launch_table = tbl\n",
    "        print(f\"\\n Falcon 9 launch table found at index {idx}\")\n",
    "        break\n",
    "\n",
    "# Make sure a table was found\n",
    "if first_launch_table is None:\n",
    "    raise ValueError(\"Falcon 9 table not found. Check the table indices.\")\n",
    "\n",
    "# Now extract the column names safely\n",
    "column_names = []\n",
    "\n",
    "# Apply find_all('th') on the selected table\n",
    "header_cells = first_launch_table.find_all('th')\n",
    "\n",
    "for th in header_cells:\n",
    "    name = extract_column_from_header(th)\n",
    "    if name is not None and len(name) > 0:\n",
    "        column_names.append(name)\n",
    "\n",
    "# Display the cleaned column names\n",
    "print(\"\\n Cleaned Column Names:\")\n",
    "print(column_names)"
   ]
  },
  {
   "cell_type": "markdown",
   "metadata": {},
   "source": [
    "Check the extracted column names\n"
   ]
  },
  {
   "cell_type": "code",
   "execution_count": 16,
   "metadata": {
    "tags": []
   },
   "outputs": [
    {
     "name": "stdout",
     "output_type": "stream",
     "text": [
      "['Flight No.', 'Date and time ( )', 'Launch site', 'Payload', 'Payload mass', 'Orbit', 'Customer', 'Launch outcome']\n"
     ]
    }
   ],
   "source": [
    "print(column_names)"
   ]
  },
  {
   "cell_type": "markdown",
   "metadata": {},
   "source": [
    "## TASK 3: Create a data frame by parsing the launch HTML tables\n"
   ]
  },
  {
   "cell_type": "markdown",
   "metadata": {},
   "source": [
    "We will create an empty dictionary with keys from the extracted column names in the previous task. Later, this dictionary will be converted into a Pandas dataframe\n"
   ]
  },
  {
   "cell_type": "code",
   "execution_count": 17,
   "metadata": {
    "tags": []
   },
   "outputs": [],
   "source": [
    "launch_dict= dict.fromkeys(column_names)\n",
    "\n",
    "# Remove an irrelvant column\n",
    "del launch_dict['Date and time ( )']\n",
    "\n",
    "# Let's initial the launch_dict with each value to be an empty list\n",
    "launch_dict['Flight No.'] = []\n",
    "launch_dict['Launch site'] = []\n",
    "launch_dict['Payload'] = []\n",
    "launch_dict['Payload mass'] = []\n",
    "launch_dict['Orbit'] = []\n",
    "launch_dict['Customer'] = []\n",
    "launch_dict['Launch outcome'] = []\n",
    "# Added some new columns\n",
    "launch_dict['Version Booster']=[]\n",
    "launch_dict['Booster landing']=[]\n",
    "launch_dict['Date']=[]\n",
    "launch_dict['Time']=[]"
   ]
  },
  {
   "cell_type": "markdown",
   "metadata": {},
   "source": [
    "Next, we just need to fill up the `launch_dict` with launch records extracted from table rows.\n"
   ]
  },
  {
   "cell_type": "markdown",
   "metadata": {},
   "source": [
    "Usually, HTML tables in Wiki pages are likely to contain unexpected annotations and other types of noises, such as reference links `B0004.1[8]`, missing values `N/A [e]`, inconsistent formatting, etc.\n"
   ]
  },
  {
   "cell_type": "markdown",
   "metadata": {},
   "source": [
    "To simplify the parsing process, we have provided an incomplete code snippet below to help you to fill up the `launch_dict`. Please complete the following code snippet with TODOs or you can choose to write your own logic to parse all launch tables:\n"
   ]
  },
  {
   "cell_type": "code",
   "execution_count": 19,
   "metadata": {
    "tags": []
   },
   "outputs": [
    {
     "name": "stdout",
     "output_type": "stream",
     "text": [
      "\n",
      "Total rows extracted: 121\n",
      "\n",
      "✅ First few rows of DataFrame:\n",
      "   Flight No.             Date   Time   Version Booster Launch Site  \\\n",
      "0           1      4 June 2010  18:45  F9 v1.07B0003.18       CCAFS   \n",
      "1           2  8 December 2010  15:43  F9 v1.07B0004.18       CCAFS   \n",
      "2           3      22 May 2012  07:44  F9 v1.07B0005.18       CCAFS   \n",
      "3           4   8 October 2012  00:35  F9 v1.07B0006.18       CCAFS   \n",
      "4           5     1 March 2013  15:10  F9 v1.07B0007.18       CCAFS   \n",
      "\n",
      "                                Payload Payload Mass (kg) Orbit Customer  \\\n",
      "0  Dragon Spacecraft Qualification Unit                 0   LEO   SpaceX   \n",
      "1                                Dragon                 0   LEO     NASA   \n",
      "2                                Dragon            525 kg   LEO     NASA   \n",
      "3                          SpaceX CRS-1          4,700 kg   LEO     NASA   \n",
      "4                          SpaceX CRS-2          4,877 kg   LEO     NASA   \n",
      "\n",
      "  Launch Outcome Booster Landing  \n",
      "0        Success         Failure  \n",
      "1        Success         Failure  \n",
      "2        Success    No attempt\\n  \n",
      "3        Success      No attempt  \n",
      "4        Success    No attempt\\n  \n"
     ]
    }
   ],
   "source": [
    "extracted_row = 0\n",
    "launch_data = []  # List to hold all the dictionaries (each row)\n",
    "\n",
    "# Extract each table\n",
    "for table_number, table in enumerate(soup.find_all('table', \"wikitable plainrowheaders collapsible\")):\n",
    "    # Get table rows\n",
    "    for rows in table.find_all(\"tr\"):\n",
    "        # Check if first table heading is a number (corresponding to launch number)\n",
    "        if rows.th:\n",
    "            if rows.th.string:\n",
    "                flight_number = rows.th.string.strip()\n",
    "                flag = flight_number.isdigit()\n",
    "            else:\n",
    "                flag = False\n",
    "        else:\n",
    "            flag = False\n",
    "\n",
    "        # Get all <td> cells in the row\n",
    "        row = rows.find_all('td')\n",
    "\n",
    "        # If flight number is valid, process the row\n",
    "        if flag:\n",
    "            extracted_row += 1\n",
    "\n",
    "            # Initialize dictionary for this row\n",
    "            launch_dict = {}\n",
    "\n",
    "            # --- Extract and save values ---\n",
    "            # Flight Number\n",
    "            launch_dict['Flight No.'] = int(flight_number)\n",
    "\n",
    "            # Date and Time\n",
    "            datatimelist = date_time(row[0])  # custom function\n",
    "            launch_dict['Date'] = datatimelist[0].strip(',')\n",
    "            launch_dict['Time'] = datatimelist[1]\n",
    "\n",
    "            # Booster Version\n",
    "            bv = booster_version(row[1])  # custom function\n",
    "            if not bv:\n",
    "                bv = row[1].a.string  # fallback\n",
    "            launch_dict['Version Booster'] = bv\n",
    "\n",
    "            # Launch Site\n",
    "            launch_dict['Launch Site'] = row[2].a.string\n",
    "\n",
    "            # Payload\n",
    "            payload = row[3].a.string if row[3].a else row[3].text.strip()\n",
    "            launch_dict['Payload'] = payload\n",
    "\n",
    "            # Payload Mass\n",
    "            payload_mass = get_mass(row[4])  # custom function\n",
    "            launch_dict['Payload Mass (kg)'] = payload_mass\n",
    "\n",
    "            # Orbit\n",
    "            launch_dict['Orbit'] = row[5].a.string\n",
    "\n",
    "            # Customer\n",
    "            launch_dict['Customer'] = row[6].a.string if row[6].a else row[6].text.strip()\n",
    "\n",
    "            # Launch Outcome\n",
    "            launch_outcome = list(row[7].strings)[0]\n",
    "            launch_dict['Launch Outcome'] = launch_outcome.strip()\n",
    "\n",
    "            # Booster Landing\n",
    "            booster_landing = landing_status(row[8])  # custom function\n",
    "            launch_dict['Booster Landing'] = booster_landing\n",
    "\n",
    "            # Append this row's dictionary to the list\n",
    "            launch_data.append(launch_dict)\n",
    "\n",
    "# ✅ Print number of rows extracted\n",
    "print(f\"\\nTotal rows extracted: {extracted_row}\")\n",
    "\n",
    "# ✅ (Optional) Convert to Pandas DataFrame\n",
    "import pandas as pd\n",
    "launch_df = pd.DataFrame(launch_data)\n",
    "print(\"\\n✅ First few rows of DataFrame:\")\n",
    "print(launch_df.head())"
   ]
  },
  {
   "cell_type": "markdown",
   "metadata": {},
   "source": [
    "After you have fill in the parsed launch record values into `launch_dict`, you can create a dataframe from it.\n"
   ]
  },
  {
   "cell_type": "code",
   "execution_count": 20,
   "metadata": {
    "tags": []
   },
   "outputs": [],
   "source": [
    "df= pd.DataFrame({ key:pd.Series(value) for key, value in launch_dict.items() })"
   ]
  },
  {
   "cell_type": "markdown",
   "metadata": {},
   "source": [
    "We can now export it to a <b>CSV</b> for the next section, but to make the answers consistent and in case you have difficulties finishing this lab. \n",
    "\n",
    "Following labs will be using a provided dataset to make each lab independent. \n"
   ]
  },
  {
   "cell_type": "markdown",
   "metadata": {},
   "source": [
    "<code>df.to_csv('spacex_web_scraped.csv', index=False)</code>\n"
   ]
  },
  {
   "cell_type": "markdown",
   "metadata": {},
   "source": [
    "## Authors\n"
   ]
  },
  {
   "cell_type": "markdown",
   "metadata": {},
   "source": [
    "<a href=\"https://www.linkedin.com/in/yan-luo-96288783/\">Yan Luo</a>\n"
   ]
  },
  {
   "cell_type": "markdown",
   "metadata": {},
   "source": [
    "<a href=\"https://www.linkedin.com/in/nayefaboutayoun/\">Nayef Abou Tayoun</a>\n"
   ]
  },
  {
   "cell_type": "markdown",
   "metadata": {},
   "source": [
    "<!--\n",
    "## Change Log\n",
    "-->\n"
   ]
  },
  {
   "cell_type": "markdown",
   "metadata": {},
   "source": [
    "<!--\n",
    "| Date (YYYY-MM-DD) | Version | Changed By | Change Description      |\n",
    "| ----------------- | ------- | ---------- | ----------------------- |\n",
    "| 2021-06-09        | 1.0     | Yan Luo    | Tasks updates           |\n",
    "| 2020-11-10        | 1.0     | Nayef      | Created the initial version |\n",
    "-->\n"
   ]
  },
  {
   "cell_type": "markdown",
   "metadata": {},
   "source": [
    "Copyright © 2021 IBM Corporation. All rights reserved.\n"
   ]
  }
 ],
 "metadata": {
  "kernelspec": {
   "display_name": "Python",
   "language": "python",
   "name": "conda-env-python-py"
  },
  "language_info": {
   "codemirror_mode": {
    "name": "ipython",
    "version": 3
   },
   "file_extension": ".py",
   "mimetype": "text/x-python",
   "name": "python",
   "nbconvert_exporter": "python",
   "pygments_lexer": "ipython3",
   "version": "3.7.12"
  },
  "prev_pub_hash": "64f1b0aac408997185c47caba18730e0028b75e7934a0e5bf0ae73c5cb7ba677"
 },
 "nbformat": 4,
 "nbformat_minor": 4
}
